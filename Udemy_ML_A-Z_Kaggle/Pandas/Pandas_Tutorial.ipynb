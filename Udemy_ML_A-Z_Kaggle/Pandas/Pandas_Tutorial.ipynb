{
 "cells": [
  {
   "cell_type": "markdown",
   "metadata": {},
   "source": [
    "### Udemy Kaggle Tutorial ###\n",
    "###  Machine Learning A-Z ###\n",
    "###       1/25/2020       ###"
   ]
  },
  {
   "cell_type": "code",
   "execution_count": null,
   "metadata": {},
   "outputs": [],
   "source": [
    "#######    Pandas    ########\n",
    "# Series \n",
    "# Data Frame \n",
    "\n",
    "# Create Pandas Series \n",
    "import pandas as pd \n",
    "a = pd.Series([1,2,3,4,5])\n",
    "a"
   ]
  },
  {
   "cell_type": "code",
   "execution_count": null,
   "metadata": {},
   "outputs": [],
   "source": [
    "type(a)"
   ]
  },
  {
   "cell_type": "code",
   "execution_count": null,
   "metadata": {},
   "outputs": [],
   "source": [
    "a = pd.Series(['a', 'b', 'c'])"
   ]
  },
  {
   "cell_type": "code",
   "execution_count": null,
   "metadata": {},
   "outputs": [],
   "source": [
    "a = pd.date_range(start = '01-25-2020', end = '01-31-2020')"
   ]
  },
  {
   "cell_type": "code",
   "execution_count": null,
   "metadata": {},
   "outputs": [],
   "source": [
    "##### Pandas Data Frame #####"
   ]
  },
  {
   "cell_type": "code",
   "execution_count": null,
   "metadata": {},
   "outputs": [],
   "source": [
    "import numpy as np"
   ]
  },
  {
   "cell_type": "code",
   "execution_count": null,
   "metadata": {},
   "outputs": [],
   "source": [
    "temp = no.random.randint(low = 20, high = 100, size[20, ])\n",
    "name = np.random.choice(['Abhay', 'Teclov', 'Geekshub', 'Ankit'], 20)\n",
    "random = np.random.choice([10, 11, 12 ,13, 14], 20)"
   ]
  },
  {
   "cell_type": "code",
   "execution_count": null,
   "metadata": {},
   "outputs": [],
   "source": [
    "a = list(zip(temp, name, random))"
   ]
  },
  {
   "cell_type": "code",
   "execution_count": null,
   "metadata": {},
   "outputs": [],
   "source": [
    "df = pd.DataFrame(data = a, columns = ['temp', 'name', 'random'])"
   ]
  },
  {
   "cell_type": "code",
   "execution_count": null,
   "metadata": {},
   "outputs": [],
   "source": [
    "df\n",
    "type(df)"
   ]
  },
  {
   "cell_type": "code",
   "execution_count": null,
   "metadata": {},
   "outputs": [],
   "source": [
    "##### Another Operation #####\n",
    "df = pd.DataFrame({'temp'; temp, 'name':name, 'random':random})"
   ]
  },
  {
   "cell_type": "code",
   "execution_count": null,
   "metadata": {},
   "outputs": [],
   "source": [
    "# Check the head, tail(end) amd shape of data frame\n",
    "\n",
    "df.head()\n",
    "df.tail()\n",
    "df.shape()"
   ]
  },
  {
   "cell_type": "code",
   "execution_count": null,
   "metadata": {},
   "outputs": [],
   "source": [
    "df.info()\n",
    "df.values()"
   ]
  },
  {
   "cell_type": "code",
   "execution_count": null,
   "metadata": {},
   "outputs": [],
   "source": [
    "###### Indexes ######\n",
    "df.set_index('temp', inplace = True)"
   ]
  },
  {
   "cell_type": "code",
   "execution_count": null,
   "metadata": {},
   "outputs": [],
   "source": [
    "# Sort the data frame above by the \"random\" column\n",
    "# In decreasing sequence \n",
    "df.sort_values(by = 'random', ascending = False)"
   ]
  },
  {
   "cell_type": "code",
   "execution_count": null,
   "metadata": {},
   "outputs": [],
   "source": [
    "df.drop(['random'], axis = 1)"
   ]
  },
  {
   "cell_type": "code",
   "execution_count": null,
   "metadata": {},
   "outputs": [],
   "source": [
    "###### loc and iloc ######\n",
    "# Also take the df for example \n",
    "# if want to get the first two columns \n",
    "df.iloc[[0,1]]\n",
    "\n",
    "# Or rows and specified columns \n",
    "df.iloc[[True, True, False, True]]\n",
    "\n",
    "# The loc will get data of corresponding (given) data\n",
    "# Just take an example \n",
    "df.loc[(df.random > 10) | (df.random == 10)]"
   ]
  },
  {
   "cell_type": "code",
   "execution_count": null,
   "metadata": {},
   "outputs": [],
   "source": [
    "#######  Read .CSV file  #######\n",
    "# pd.read_csv()\n",
    "\n",
    "# Convert to Excel \n",
    "# pip3 install openpyxl\n",
    "# .to_excel "
   ]
  },
  {
   "cell_type": "code",
   "execution_count": null,
   "metadata": {},
   "outputs": [],
   "source": [
    "######   Merge   #######\n",
    "# concat \n",
    "# pd.concat([d1, d2], axis = 0, ignore_index = True)\n",
    "\n",
    "# Groupby \n",
    "df_group\n",
    "df_group.describe()\n",
    "\n",
    "# Apply a function for a dataframe \n",
    "df hot_temp(x):\n",
    "    return x > 30\n",
    "\n",
    "df2['hot_temp'] = df2['temperature'].apply(hot_temp)\n",
    "\n",
    "# Lambda function\n",
    "df2['hot_temp'] = df2['temperature'].apply(lambda x: x> 30)"
   ]
  },
  {
   "cell_type": "code",
   "execution_count": null,
   "metadata": {},
   "outputs": [],
   "source": [
    "######## Merge 2 ########\n",
    "pd.concat([d1,d2], axis = 1)"
   ]
  },
  {
   "cell_type": "code",
   "execution_count": null,
   "metadata": {},
   "outputs": [],
   "source": [
    "d1 = pd.DataFrame({\n",
    "    \"city\": [\"Los Angeles\", \"New York\", \"Columbus\", \"Chicago\"],\n",
    "    \"temperature\" : [32, 30, 34, 33]\n",
    "})"
   ]
  },
  {
   "cell_type": "code",
   "execution_count": null,
   "metadata": {},
   "outputs": [],
   "source": [
    "d2 =  pd.DataFrame({\n",
    "    \"city\": [\"Los Angeles\", \"New York\", \"Columbus\"],\n",
    "    \"humidity\" : [68, 65, 75]\n",
    "})"
   ]
  },
  {
   "cell_type": "code",
   "execution_count": null,
   "metadata": {},
   "outputs": [],
   "source": [
    "df = pd.merge(d1, d2, on = ['city'], how = 'left')"
   ]
  },
  {
   "cell_type": "code",
   "execution_count": null,
   "metadata": {},
   "outputs": [],
   "source": [
    "######## Pivot Table ########\n",
    "df2.pivot_table(values = 'temperature', index = 'event', aggfunc = 'mean')"
   ]
  },
  {
   "cell_type": "code",
   "execution_count": null,
   "metadata": {},
   "outputs": [],
   "source": [
    "df2.pivot_table(columns = 'temperature')"
   ]
  },
  {
   "cell_type": "code",
   "execution_count": null,
   "metadata": {},
   "outputs": [],
   "source": [
    "# if you need more help \n",
    "help(pd.DataFrame.pivot_table)"
   ]
  }
 ],
 "metadata": {
  "kernelspec": {
   "display_name": "Python 3",
   "language": "python",
   "name": "python3"
  },
  "language_info": {
   "codemirror_mode": {
    "name": "ipython",
    "version": 3
   },
   "file_extension": ".py",
   "mimetype": "text/x-python",
   "name": "python",
   "nbconvert_exporter": "python",
   "pygments_lexer": "ipython3",
   "version": "3.7.4"
  }
 },
 "nbformat": 4,
 "nbformat_minor": 4
}
